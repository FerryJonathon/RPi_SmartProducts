{
 "cells": [
  {
   "cell_type": "markdown",
   "id": "353d64d9",
   "metadata": {},
   "source": [
    "## Homework 8: Jonathon Ferry"
   ]
  },
  {
   "cell_type": "markdown",
   "id": "fe40d822",
   "metadata": {},
   "source": [
    "### Recipe 11.1"
   ]
  },
  {
   "cell_type": "code",
   "execution_count": null,
   "id": "6b1ed48f",
   "metadata": {},
   "outputs": [],
   "source": [
    "from gpiozero import LED\n",
    "from time import sleep\n",
    "\n",
    "led = LED(18)\n",
    "while True:\n",
    "    led.on()\n",
    "    sleep(0.5)\n",
    "    led.off()\n",
    "    sleep(0.5)"
   ]
  },
  {
   "cell_type": "code",
   "execution_count": null,
   "id": "00de7279",
   "metadata": {},
   "outputs": [],
   "source": [
    "from gpiozero import LED\n",
    "\n",
    "led = LED(18)\n",
    "led.blink(.5, .5, background=True)\n",
    "print(\"Notice that control has moved away-Hit enter to continue\")\n",
    "input()\n",
    "print(\"Control is now back\")\n",
    "led.off()\n",
    "input()"
   ]
  },
  {
   "cell_type": "markdown",
   "id": "39acd915",
   "metadata": {},
   "source": [
    "### Recipe 11.3"
   ]
  },
  {
   "cell_type": "code",
   "execution_count": 1,
   "id": "bc9f5cc2",
   "metadata": {},
   "outputs": [
    {
     "name": "stdout",
     "output_type": "stream",
     "text": [
      "Enter brightness 0 to 1.2\n",
      "Enter brightness 0 to 1.8\n",
      "Enter brightness 0 to 11.0\n",
      "Enter brightness 0 to 1.50\n",
      "Enter brightness 0 to 13\n"
     ]
    },
    {
     "ename": "OutputDeviceBadValue",
     "evalue": "PWM value must be between 0 and 1",
     "output_type": "error",
     "traceback": [
      "\u001b[0;31m---------------------------------------------------------------------------\u001b[0m",
      "\u001b[0;31mOutputDeviceBadValue\u001b[0m                      Traceback (most recent call last)",
      "Cell \u001b[0;32mIn[1], line 8\u001b[0m\n\u001b[1;32m      6\u001b[0m brightness_s \u001b[38;5;241m=\u001b[39m \u001b[38;5;28minput\u001b[39m(\u001b[38;5;124m\"\u001b[39m\u001b[38;5;124mEnter brightness 0 to 1\u001b[39m\u001b[38;5;124m\"\u001b[39m)\n\u001b[1;32m      7\u001b[0m brightness \u001b[38;5;241m=\u001b[39m \u001b[38;5;28mfloat\u001b[39m(brightness_s)\n\u001b[0;32m----> 8\u001b[0m \u001b[43mled\u001b[49m\u001b[38;5;241;43m.\u001b[39;49m\u001b[43mvalue\u001b[49m \u001b[38;5;241m=\u001b[39m brightness\n",
      "File \u001b[0;32m/usr/lib/python3/dist-packages/gpiozero/devices.py:132\u001b[0m, in \u001b[0;36mGPIOBase.__setattr__\u001b[0;34m(self, name, value)\u001b[0m\n\u001b[1;32m    128\u001b[0m \u001b[38;5;28;01mif\u001b[39;00m \u001b[38;5;28mhasattr\u001b[39m(\u001b[38;5;28mself\u001b[39m, \u001b[38;5;124m'\u001b[39m\u001b[38;5;124m__attrs__\u001b[39m\u001b[38;5;124m'\u001b[39m) \u001b[38;5;129;01mand\u001b[39;00m name \u001b[38;5;129;01mnot\u001b[39;00m \u001b[38;5;129;01min\u001b[39;00m \u001b[38;5;28mself\u001b[39m\u001b[38;5;241m.\u001b[39m__attrs__:\n\u001b[1;32m    129\u001b[0m     \u001b[38;5;28;01mraise\u001b[39;00m \u001b[38;5;167;01mAttributeError\u001b[39;00m(\n\u001b[1;32m    130\u001b[0m         \u001b[38;5;124m\"\u001b[39m\u001b[38;5;124m'\u001b[39m\u001b[38;5;132;01m%s\u001b[39;00m\u001b[38;5;124m'\u001b[39m\u001b[38;5;124m object has no attribute \u001b[39m\u001b[38;5;124m'\u001b[39m\u001b[38;5;132;01m%s\u001b[39;00m\u001b[38;5;124m'\u001b[39m\u001b[38;5;124m\"\u001b[39m \u001b[38;5;241m%\u001b[39m (\n\u001b[1;32m    131\u001b[0m         \u001b[38;5;28mself\u001b[39m\u001b[38;5;241m.\u001b[39m\u001b[38;5;18m__class__\u001b[39m\u001b[38;5;241m.\u001b[39m\u001b[38;5;18m__name__\u001b[39m, name))\n\u001b[0;32m--> 132\u001b[0m \u001b[38;5;28;01mreturn\u001b[39;00m \u001b[38;5;28;43msuper\u001b[39;49m\u001b[43m(\u001b[49m\u001b[43mGPIOBase\u001b[49m\u001b[43m,\u001b[49m\u001b[43m \u001b[49m\u001b[38;5;28;43mself\u001b[39;49m\u001b[43m)\u001b[49m\u001b[38;5;241;43m.\u001b[39;49m\u001b[38;5;21;43m__setattr__\u001b[39;49m\u001b[43m(\u001b[49m\u001b[43mname\u001b[49m\u001b[43m,\u001b[49m\u001b[43m \u001b[49m\u001b[43mvalue\u001b[49m\u001b[43m)\u001b[49m\n",
      "File \u001b[0;32m/usr/lib/python3/dist-packages/gpiozero/output_devices.py:448\u001b[0m, in \u001b[0;36mPWMOutputDevice.value\u001b[0;34m(self, value)\u001b[0m\n\u001b[1;32m    445\u001b[0m \u001b[38;5;129m@value\u001b[39m\u001b[38;5;241m.\u001b[39msetter\n\u001b[1;32m    446\u001b[0m \u001b[38;5;28;01mdef\u001b[39;00m \u001b[38;5;21mvalue\u001b[39m(\u001b[38;5;28mself\u001b[39m, value):\n\u001b[1;32m    447\u001b[0m     \u001b[38;5;28mself\u001b[39m\u001b[38;5;241m.\u001b[39m_stop_blink()\n\u001b[0;32m--> 448\u001b[0m     \u001b[38;5;28;43mself\u001b[39;49m\u001b[38;5;241;43m.\u001b[39;49m\u001b[43m_write\u001b[49m\u001b[43m(\u001b[49m\u001b[43mvalue\u001b[49m\u001b[43m)\u001b[49m\n",
      "File \u001b[0;32m/usr/lib/python3/dist-packages/gpiozero/output_devices.py:434\u001b[0m, in \u001b[0;36mPWMOutputDevice._write\u001b[0;34m(self, value)\u001b[0m\n\u001b[1;32m    432\u001b[0m \u001b[38;5;28;01mdef\u001b[39;00m \u001b[38;5;21m_write\u001b[39m(\u001b[38;5;28mself\u001b[39m, value):\n\u001b[1;32m    433\u001b[0m     \u001b[38;5;28;01mif\u001b[39;00m \u001b[38;5;129;01mnot\u001b[39;00m \u001b[38;5;241m0\u001b[39m \u001b[38;5;241m<\u001b[39m\u001b[38;5;241m=\u001b[39m value \u001b[38;5;241m<\u001b[39m\u001b[38;5;241m=\u001b[39m \u001b[38;5;241m1\u001b[39m:\n\u001b[0;32m--> 434\u001b[0m         \u001b[38;5;28;01mraise\u001b[39;00m OutputDeviceBadValue(\u001b[38;5;124m\"\u001b[39m\u001b[38;5;124mPWM value must be between 0 and 1\u001b[39m\u001b[38;5;124m\"\u001b[39m)\n\u001b[1;32m    435\u001b[0m     \u001b[38;5;28msuper\u001b[39m(PWMOutputDevice, \u001b[38;5;28mself\u001b[39m)\u001b[38;5;241m.\u001b[39m_write(value)\n",
      "\u001b[0;31mOutputDeviceBadValue\u001b[0m: PWM value must be between 0 and 1"
     ]
    }
   ],
   "source": [
    "from gpiozero import PWMLED\n",
    "\n",
    "led = PWMLED(18)\n",
    "\n",
    "while True:\n",
    "    brightness_s = input(\"Enter brightness 0 to 1\")\n",
    "    brightness = float(brightness_s)\n",
    "    led.value = brightness"
   ]
  },
  {
   "cell_type": "code",
   "execution_count": null,
   "id": "44f5a920",
   "metadata": {},
   "outputs": [],
   "source": []
  }
 ],
 "metadata": {
  "kernelspec": {
   "display_name": "Python 3 (ipykernel)",
   "language": "python",
   "name": "python3"
  },
  "language_info": {
   "codemirror_mode": {
    "name": "ipython",
    "version": 3
   },
   "file_extension": ".py",
   "mimetype": "text/x-python",
   "name": "python",
   "nbconvert_exporter": "python",
   "pygments_lexer": "ipython3",
   "version": "3.9.2"
  }
 },
 "nbformat": 4,
 "nbformat_minor": 5
}
